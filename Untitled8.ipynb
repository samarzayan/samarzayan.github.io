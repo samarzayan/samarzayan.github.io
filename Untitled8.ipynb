{
  "nbformat": 4,
  "nbformat_minor": 0,
  "metadata": {
    "colab": {
      "provenance": []
    },
    "kernelspec": {
      "name": "python3",
      "display_name": "Python 3"
    },
    "language_info": {
      "name": "python"
    },
    "accelerator": "GPU"
  },
  "cells": [
    {
      "cell_type": "markdown",
      "source": [
        "# Lesson 1"
      ],
      "metadata": {
        "id": "inCvs39i1mRW"
      }
    },
    {
      "cell_type": "code",
      "source": [
        "from IPython.display import YouTubeVideo\n",
        "YouTubeVideo('-ncJV0tMAjE')"
      ],
      "metadata": {
        "colab": {
          "base_uri": "https://localhost:8080/",
          "height": 321
        },
        "id": "OX1YinMd2BGf",
        "outputId": "ec0fbbee-435c-4dd2-ac30-c8ead9af25f0"
      },
      "execution_count": 2,
      "outputs": [
        {
          "output_type": "execute_result",
          "data": {
            "text/plain": [
              "<IPython.lib.display.YouTubeVideo at 0x7f0d334f6e50>"
            ],
            "text/html": [
              "\n",
              "        <iframe\n",
              "            width=\"400\"\n",
              "            height=\"300\"\n",
              "            src=\"https://www.youtube.com/embed/-ncJV0tMAjE\"\n",
              "            frameborder=\"0\"\n",
              "            allowfullscreen\n",
              "        ></iframe>\n",
              "        "
            ],
            "image/jpeg": "[encoded data removed]"
          },
          "metadata": {},
          "execution_count": 2
        }
      ]
    },
    {
      "cell_type": "markdown",
      "source": [
        "## Introduction"
      ],
      "metadata": {
        "id": "GrysuPOM3JLo"
      }
    },
    {
      "cell_type": "markdown",
      "source": [
        "Welcome to Practical Deep Learning For Coders!"
      ],
      "metadata": {
        "id": "9Mlh0G6S3U9A"
      }
    },
    {
      "cell_type": "code",
      "execution_count": 1,
      "metadata": {
        "colab": {
          "base_uri": "https://localhost:8080/"
        },
        "id": "IABaIxqW0ej7",
        "outputId": "c19832a2-9af7-4216-9de7-0720da9bdd72"
      },
      "outputs": [
        {
          "output_type": "stream",
          "name": "stdout",
          "text": [
            "\u001b[?25l\r\u001b[K     |█████▏                          | 10 kB 25.0 MB/s eta 0:00:01\r\u001b[K     |██████████▍                     | 20 kB 19.6 MB/s eta 0:00:01\r\u001b[K     |███████████████▋                | 30 kB 25.4 MB/s eta 0:00:01\r\u001b[K     |████████████████████▉           | 40 kB 20.2 MB/s eta 0:00:01\r\u001b[K     |██████████████████████████      | 51 kB 7.1 MB/s eta 0:00:01\r\u001b[K     |███████████████████████████████▎| 61 kB 8.3 MB/s eta 0:00:01\r\u001b[K     |████████████████████████████████| 62 kB 1.3 MB/s \n",
            "\u001b[?25h\u001b[?25l\r\u001b[K     |███▍                            | 10 kB 31.8 MB/s eta 0:00:01\r\u001b[K     |██████▉                         | 20 kB 37.1 MB/s eta 0:00:01\r\u001b[K     |██████████▏                     | 30 kB 45.5 MB/s eta 0:00:01\r\u001b[K     |█████████████▋                  | 40 kB 50.7 MB/s eta 0:00:01\r\u001b[K     |█████████████████               | 51 kB 39.6 MB/s eta 0:00:01\r\u001b[K     |████████████████████▍           | 61 kB 43.2 MB/s eta 0:00:01\r\u001b[K     |███████████████████████▊        | 71 kB 46.0 MB/s eta 0:00:01\r\u001b[K     |███████████████████████████▏    | 81 kB 48.5 MB/s eta 0:00:01\r\u001b[K     |██████████████████████████████▌ | 92 kB 41.9 MB/s eta 0:00:01\r\u001b[K     |████████████████████████████████| 96 kB 5.9 MB/s \n",
            "\u001b[31mERROR: pip's dependency resolver does not currently take into account all the packages that are installed. This behaviour is the source of the following dependency conflicts.\n",
            "flask 1.1.4 requires click<8.0,>=5.1, but you have click 8.1.3 which is incompatible.\u001b[0m\n",
            "\u001b[?25h"
          ]
        }
      ],
      "source": [
        "!pip install -Uqq fastai duckduckgo_search"
      ]
    }
  ]
}